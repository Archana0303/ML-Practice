{
 "cells": [
  {
   "cell_type": "markdown",
   "id": "626bb155",
   "metadata": {},
   "source": [
    "# Data Science Tools and Ecosystem"
   ]
  },
  {
   "cell_type": "markdown",
   "id": "94740daf",
   "metadata": {},
   "source": [
    "In this notebook, Data Science Tools and Ecosystem are summarized."
   ]
  },
  {
   "cell_type": "markdown",
   "id": "e3da30a5",
   "metadata": {},
   "source": [
    "**Objectives: \n",
    "\n",
    "1. Languages for Data Science\n",
    "2. Libraries for Data Science\n",
    "3. Data Science Tools\n",
    "4. Airthmetic Expressions"
   ]
  },
  {
   "cell_type": "markdown",
   "id": "6e047b84",
   "metadata": {},
   "source": [
    "Some of the popular languages that Data Scientists use are:\n",
    "1. Python\n",
    "2. R language\n",
    "3. SQL"
   ]
  },
  {
   "cell_type": "markdown",
   "id": "e8ce44bc",
   "metadata": {},
   "source": [
    "Some of the commonly used libraries used by Data Scientists include:\n",
    "1. NumPy\n",
    "2. Pandas\n",
    "3. Keras\n",
    "4. Matplotlib\n",
    "5. Tensorflow"
   ]
  },
  {
   "cell_type": "markdown",
   "id": "ce6b3583",
   "metadata": {},
   "source": [
    "| Data | Science  | Tools |\n",
    "| -----|:---------:| -----: |\n",
    "| IBM SPSS | Apache Spark | MATLAB     |\n",
    "| Excel    |Jupyter       | Matplotlib |\n"
   ]
  },
  {
   "cell_type": "markdown",
   "id": "651f7c43",
   "metadata": {},
   "source": [
    "### Below are a few examples of evaluating arithmetic expressions in Python\n",
    "1. +\n",
    "2. -\n",
    "3. *\n",
    "4. / \n",
    "5. %"
   ]
  },
  {
   "cell_type": "code",
   "execution_count": 1,
   "id": "922eacdc",
   "metadata": {},
   "outputs": [
    {
     "data": {
      "text/plain": [
       "17"
      ]
     },
     "execution_count": 1,
     "metadata": {},
     "output_type": "execute_result"
    }
   ],
   "source": [
    "#This a simple arithmetic expression to mutiply then add integers\n",
    "(3*4)+5"
   ]
  },
  {
   "cell_type": "code",
   "execution_count": 2,
   "id": "61853db3",
   "metadata": {},
   "outputs": [
    {
     "data": {
      "text/plain": [
       "3.3333333333333335"
      ]
     },
     "execution_count": 2,
     "metadata": {},
     "output_type": "execute_result"
    }
   ],
   "source": [
    "#This will convert 200 minutes to hours by diving by 60\n",
    "200/60"
   ]
  },
  {
   "cell_type": "markdown",
   "id": "3946a19d",
   "metadata": {},
   "source": [
    "## Author\n",
    "Archana Tomar"
   ]
  },
  {
   "cell_type": "code",
   "execution_count": null,
   "id": "5d2c0b09",
   "metadata": {},
   "outputs": [],
   "source": []
  }
 ],
 "metadata": {
  "kernelspec": {
   "display_name": "Python 3 (ipykernel)",
   "language": "python",
   "name": "python3"
  },
  "language_info": {
   "codemirror_mode": {
    "name": "ipython",
    "version": 3
   },
   "file_extension": ".py",
   "mimetype": "text/x-python",
   "name": "python",
   "nbconvert_exporter": "python",
   "pygments_lexer": "ipython3",
   "version": "3.9.13"
  }
 },
 "nbformat": 4,
 "nbformat_minor": 5
}
